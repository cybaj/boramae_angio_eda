{
 "cells": [
  {
   "cell_type": "code",
   "execution_count": 58,
   "metadata": {},
   "outputs": [],
   "source": [
    "from dataset import *"
   ]
  },
  {
   "cell_type": "code",
   "execution_count": 59,
   "metadata": {},
   "outputs": [],
   "source": [
    "import random\n",
    "import squarify\n",
    "import matplotlib.pyplot as plt"
   ]
  },
  {
   "cell_type": "code",
   "execution_count": 60,
   "metadata": {},
   "outputs": [],
   "source": [
    "total = get_trainsubset(index=0, random=False)"
   ]
  },
  {
   "cell_type": "code",
   "execution_count": 61,
   "metadata": {},
   "outputs": [
    {
     "data": {
      "text/plain": [
       "88"
      ]
     },
     "execution_count": 61,
     "metadata": {},
     "output_type": "execute_result"
    }
   ],
   "source": [
    "len(total)"
   ]
  },
  {
   "cell_type": "code",
   "execution_count": 62,
   "metadata": {},
   "outputs": [],
   "source": [
    "total_ok_size = 0\n",
    "num_total_ok_case = 0\n",
    "num_not_total_case = 0\n",
    "for item in total:\n",
    "    if 'ok_length' in item.keys():\n",
    "        total_ok_size += item['ok_length']\n",
    "        num_not_total_case += 1\n",
    "    else:\n",
    "        total_ok_size += item['length']\n",
    "        num_total_ok_case += 1\n"
   ]
  },
  {
   "cell_type": "code",
   "execution_count": 63,
   "metadata": {},
   "outputs": [
    {
     "name": "stdout",
     "output_type": "stream",
     "text": [
      "697806 42 46\n"
     ]
    }
   ],
   "source": [
    "print(total_ok_size, num_total_ok_case, num_not_total_case)"
   ]
  },
  {
   "cell_type": "code",
   "execution_count": 64,
   "metadata": {},
   "outputs": [
    {
     "data": {
      "text/plain": [
       "87225.75"
      ]
     },
     "execution_count": 64,
     "metadata": {},
     "output_type": "execute_result"
    }
   ],
   "source": [
    "num_frame = total_ok_size / 8\n",
    "num_frame"
   ]
  },
  {
   "cell_type": "code",
   "execution_count": 65,
   "metadata": {},
   "outputs": [],
   "source": [
    "testset_names = get_testset()"
   ]
  },
  {
   "cell_type": "code",
   "execution_count": 66,
   "metadata": {},
   "outputs": [
    {
     "data": {
      "text/plain": [
       "[{'dirname': '200211_yjw'},\n",
       " {'dirname': '200121_smh'},\n",
       " {'dirname': '200102_jsyB'},\n",
       " {'dirname': '200103_5hyj_SD_ICA_hanrh'},\n",
       " {'dirname': '200424_T22_AV_hanrh'},\n",
       " {'dirname': '200424_T17_AV_hanrh'},\n",
       " {'dirname': '200121_jsh_ea'},\n",
       " {'dirname': '191231_koh_av'},\n",
       " {'dirname': '200211_ysy'},\n",
       " {'dirname': '200102_ybn'},\n",
       " {'dirname': '200121_yyh'}]"
      ]
     },
     "execution_count": 66,
     "metadata": {},
     "output_type": "execute_result"
    }
   ],
   "source": [
    "testset_names"
   ]
  },
  {
   "cell_type": "code",
   "execution_count": 67,
   "metadata": {},
   "outputs": [],
   "source": [
    "import os"
   ]
  },
  {
   "cell_type": "code",
   "execution_count": 68,
   "metadata": {},
   "outputs": [],
   "source": [
    "tran_root = os.path.join('tensorflow-deeplab-v3', 'dataset', 'boramae', 'transformed_dir')"
   ]
  },
  {
   "cell_type": "code",
   "execution_count": 69,
   "metadata": {},
   "outputs": [],
   "source": [
    "all_keys = metadata.keys()"
   ]
  },
  {
   "cell_type": "code",
   "execution_count": 70,
   "metadata": {},
   "outputs": [],
   "source": [
    "test_size = 0\n",
    "for name in testset_names:\n",
    "    with open(os.path.join(tran_root, name['dirname'], name['dirname']+'_filelist.txt'), 'r') as fp:\n",
    "        test_size += len(fp.readlines())"
   ]
  },
  {
   "cell_type": "code",
   "execution_count": 71,
   "metadata": {},
   "outputs": [
    {
     "data": {
      "text/plain": [
       "90129"
      ]
     },
     "execution_count": 71,
     "metadata": {},
     "output_type": "execute_result"
    }
   ],
   "source": [
    "test_size"
   ]
  },
  {
   "cell_type": "code",
   "execution_count": 72,
   "metadata": {},
   "outputs": [
    {
     "data": {
      "text/plain": [
       "11266.125"
      ]
     },
     "execution_count": 72,
     "metadata": {},
     "output_type": "execute_result"
    }
   ],
   "source": [
    "test_size / 8"
   ]
  },
  {
   "cell_type": "code",
   "execution_count": 73,
   "metadata": {},
   "outputs": [],
   "source": [
    "def get_attr(total, attr_name):\n",
    "    attrs = []\n",
    "    for item in total:\n",
    "        try:\n",
    "            attrs.append(item[attr_name])\n",
    "        except:\n",
    "            print(item)\n",
    "    return attrs"
   ]
  },
  {
   "cell_type": "code",
   "execution_count": 74,
   "metadata": {},
   "outputs": [],
   "source": [
    "miscs = get_attr(total, 'misc')"
   ]
  },
  {
   "cell_type": "code",
   "execution_count": 75,
   "metadata": {},
   "outputs": [
    {
     "data": {
      "text/plain": [
       "88"
      ]
     },
     "execution_count": 75,
     "metadata": {},
     "output_type": "execute_result"
    }
   ],
   "source": [
    "len(miscs)"
   ]
  },
  {
   "cell_type": "code",
   "execution_count": 76,
   "metadata": {},
   "outputs": [
    {
     "name": "stdout",
     "output_type": "stream",
     "text": [
      "[['dark', 'sparse'], ['unclear'], ['unclear', 'dark'], ['blur'], ['sparse', 'blur'], ['vein'], ['blur'], ['sparse'], ['blur', 'unclear'], ['unclear'], ['blur'], ['already', 'blur', 'sparse'], ['blur', 'dark'], ['blur', 'unclear', 'already'], ['dark', 'already'], [], [], ['blur'], [], [], [], [], [], [], ['hard'], [], [], [], ['blur'], [], ['unclear', 'blur'], [], [], ['blur'], ['overexposure'], [], [], ['sparse', 'segmented'], [], ['dark'], ['blur'], ['vein'], ['hard'], ['unclear'], ['blur'], ['blur', 'vein', 'unclear', 'hard'], ['dark'], ['vein', 'unclear'], ['already'], ['already'], ['already'], ['dark', 'blur'], [], [{'key': 'duplicate', 'value': '191123_8bAI_large ICA_EA_hanrh'}], ['already'], ['sparse', 'already'], ['already'], ['already'], ['already'], ['already'], ['blur'], ['already'], [], ['hard'], ['already'], ['vein'], ['sparse'], [], [], ['bad'], ['bad'], ['blur', 'already'], ['blur'], ['sparse'], ['hard'], ['dark'], ['blur'], ['dark', 'hard'], [], ['blur'], ['hard'], ['unclear'], ['dark'], ['hard'], ['blur'], ['blur'], ['dark'], ['dark']]\n"
     ]
    }
   ],
   "source": [
    "print(miscs)"
   ]
  },
  {
   "cell_type": "code",
   "execution_count": 77,
   "metadata": {},
   "outputs": [],
   "source": [
    "def get_element(data):\n",
    "    if not len(data):\n",
    "        return []\n",
    "    result = set()\n",
    "    elements = {}\n",
    "    for item in data:\n",
    "        if type(item) == dict:\n",
    "            for key in item.keys():\n",
    "                if not key in elements.keys():\n",
    "                    elements[key] = {'count': 1, 'name': key}\n",
    "                else:\n",
    "                    elements[key]['count'] += 1\n",
    "        elif type(item) == list or type(item) == tuple:\n",
    "            if not len(item):\n",
    "                key = 'good'\n",
    "                if not key in elements.keys():\n",
    "                    elements[key] = {'count': 1, 'name': key}\n",
    "                else:\n",
    "                    elements[key]['count'] += 1          \n",
    "                result.add(key)\n",
    "            for value in item:\n",
    "                if type(value) == dict:\n",
    "                    result.add(value['key'])\n",
    "                    if not value['key'] in elements.keys():\n",
    "                        elements[value['key']] = {'count': 1, 'name': value['key']}\n",
    "                    else:\n",
    "                        elements[value['key']]['count'] += 1\n",
    "                else: \n",
    "                    result.add(value)\n",
    "                    if not value in elements.keys():\n",
    "                        elements[value] = {'count': 1, 'name': value}\n",
    "                    else:\n",
    "                        elements[value]['count'] += 1\n",
    "    return result, elements"
   ]
  },
  {
   "cell_type": "code",
   "execution_count": 78,
   "metadata": {},
   "outputs": [],
   "source": [
    "misc_types, misc_elements = get_element(miscs)"
   ]
  },
  {
   "cell_type": "code",
   "execution_count": 79,
   "metadata": {},
   "outputs": [],
   "source": [
    "def rename(elements, namemap):\n",
    "    for key, value in elements.items():\n",
    "        for n_key, name in namemap.items():\n",
    "            if key == n_key:\n",
    "                elements[key]['name'] = name"
   ]
  },
  {
   "cell_type": "code",
   "execution_count": 80,
   "metadata": {},
   "outputs": [],
   "source": [
    "def add_desc(elements, descmap):\n",
    "    for key, value in elements.items():\n",
    "        for n_key, name in descmap.items():\n",
    "            if key == n_key:\n",
    "                elements[key]['description'] = name"
   ]
  },
  {
   "cell_type": "code",
   "execution_count": 81,
   "metadata": {},
   "outputs": [],
   "source": [
    "descmap = {\n",
    "    'unclear': 'anatomical structure not conspicuous',\n",
    "    'bad': 'overall low image quality', \n",
    "    'hard': 'anatomical structure hard to recognition',\n",
    "    'dark': 'underexposure',\n",
    "    'sparse': 'too sparse vessel structures',\n",
    "    'good': 'acceptable vessel images'\n",
    "}"
   ]
  },
  {
   "cell_type": "code",
   "execution_count": 133,
   "metadata": {},
   "outputs": [],
   "source": [
    "namemap = {\n",
    "    'unclear': 'anatomical structure\\n not conspicuous',\n",
    "    'bad': 'overall low\\n image quality', \n",
    "    'hard': 'anatomical structure\\n too complex',\n",
    "    'dark': 'underexposure',\n",
    "    'sparse': 'anatomical structure\\n too sparse',\n",
    "    'good': 'overall high\\n image quality',\n",
    "    'already': 'image same\\n origin video',\n",
    "    'overexposure': 'overexp.',\n",
    "    'blur': 'out of focus',\n",
    "    'duplicate': 'temperal variaties',\n",
    "    'segmented': 'fragmented',\n",
    "    'vein': 'mainly focused vein'\n",
    "}"
   ]
  },
  {
   "cell_type": "code",
   "execution_count": 134,
   "metadata": {},
   "outputs": [],
   "source": [
    "rename(misc_elements, namemap)"
   ]
  },
  {
   "cell_type": "code",
   "execution_count": 135,
   "metadata": {},
   "outputs": [
    {
     "data": {
      "text/plain": [
       "{'dark': {'count': 12, 'name': 'underexposure'},\n",
       " 'sparse': {'count': 8, 'name': 'anatomical structure\\n too sparse'},\n",
       " 'unclear': {'count': 10, 'name': 'anatomical structure\\n not conspicuous'},\n",
       " 'blur': {'count': 23, 'name': 'out of focus'},\n",
       " 'vein': {'count': 5, 'name': 'mainly focused vein'},\n",
       " 'already': {'count': 15, 'name': 'image same\\n origin video'},\n",
       " 'good': {'count': 22, 'name': 'overall high\\n image quality'},\n",
       " 'hard': {'count': 8, 'name': 'anatomical structure\\n too complex'},\n",
       " 'overexposure': {'count': 1, 'name': 'overexp.'},\n",
       " 'segmented': {'count': 1, 'name': 'fragmented'}}"
      ]
     },
     "execution_count": 135,
     "metadata": {},
     "output_type": "execute_result"
    }
   ],
   "source": [
    "misc_elements"
   ]
  },
  {
   "cell_type": "code",
   "execution_count": 136,
   "metadata": {},
   "outputs": [],
   "source": [
    "misc_elements = dict(filter(lambda item: item[0] != 'duplicate' and item[0] != 'bad', misc_elements.items()))\n",
    "misc_types = set(misc_elements.keys())"
   ]
  },
  {
   "cell_type": "code",
   "execution_count": 137,
   "metadata": {},
   "outputs": [
    {
     "data": {
      "text/plain": [
       "{'already',\n",
       " 'blur',\n",
       " 'dark',\n",
       " 'good',\n",
       " 'hard',\n",
       " 'overexposure',\n",
       " 'segmented',\n",
       " 'sparse',\n",
       " 'unclear',\n",
       " 'vein'}"
      ]
     },
     "execution_count": 137,
     "metadata": {},
     "output_type": "execute_result"
    }
   ],
   "source": [
    "misc_types"
   ]
  },
  {
   "cell_type": "code",
   "execution_count": 138,
   "metadata": {},
   "outputs": [
    {
     "data": {
      "text/plain": [
       "{'dark': {'count': 12, 'name': 'underexposure'},\n",
       " 'sparse': {'count': 8, 'name': 'anatomical structure\\n too sparse'},\n",
       " 'unclear': {'count': 10, 'name': 'anatomical structure\\n not conspicuous'},\n",
       " 'blur': {'count': 23, 'name': 'out of focus'},\n",
       " 'vein': {'count': 5, 'name': 'mainly focused vein'},\n",
       " 'already': {'count': 15, 'name': 'image same\\n origin video'},\n",
       " 'good': {'count': 22, 'name': 'overall high\\n image quality'},\n",
       " 'hard': {'count': 8, 'name': 'anatomical structure\\n too complex'},\n",
       " 'overexposure': {'count': 1, 'name': 'overexp.'},\n",
       " 'segmented': {'count': 1, 'name': 'fragmented'}}"
      ]
     },
     "execution_count": 138,
     "metadata": {},
     "output_type": "execute_result"
    }
   ],
   "source": [
    "misc_elements"
   ]
  },
  {
   "cell_type": "code",
   "execution_count": 139,
   "metadata": {},
   "outputs": [],
   "source": [
    "counts = sorted(misc_elements.values(), key=lambda item: item['count'], reverse=True)"
   ]
  },
  {
   "cell_type": "code",
   "execution_count": 140,
   "metadata": {},
   "outputs": [],
   "source": [
    "from functools import reduce"
   ]
  },
  {
   "cell_type": "code",
   "execution_count": 141,
   "metadata": {},
   "outputs": [
    {
     "name": "stdout",
     "output_type": "stream",
     "text": [
      "Help on built-in function reduce in module _functools:\n",
      "\n",
      "reduce(...)\n",
      "    reduce(function, sequence[, initial]) -> value\n",
      "    \n",
      "    Apply a function of two arguments cumulatively to the items of a sequence,\n",
      "    from left to right, so as to reduce the sequence to a single value.\n",
      "    For example, reduce(lambda x, y: x+y, [1, 2, 3, 4, 5]) calculates\n",
      "    ((((1+2)+3)+4)+5).  If initial is present, it is placed before the items\n",
      "    of the sequence in the calculation, and serves as a default when the\n",
      "    sequence is empty.\n",
      "\n"
     ]
    }
   ],
   "source": [
    "help(reduce)"
   ]
  },
  {
   "cell_type": "code",
   "execution_count": 142,
   "metadata": {},
   "outputs": [
    {
     "data": {
      "text/plain": [
       "[{'count': 23, 'name': 'out of focus'},\n",
       " {'count': 22, 'name': 'overall high\\n image quality'},\n",
       " {'count': 15, 'name': 'image same\\n origin video'},\n",
       " {'count': 12, 'name': 'underexposure'},\n",
       " {'count': 10, 'name': 'anatomical structure\\n not conspicuous'},\n",
       " {'count': 8, 'name': 'anatomical structure\\n too sparse'},\n",
       " {'count': 8, 'name': 'anatomical structure\\n too complex'},\n",
       " {'count': 5, 'name': 'mainly focused vein'},\n",
       " {'count': 1, 'name': 'overexp.'},\n",
       " {'count': 1, 'name': 'fragmented'}]"
      ]
     },
     "execution_count": 142,
     "metadata": {},
     "output_type": "execute_result"
    }
   ],
   "source": [
    "counts"
   ]
  },
  {
   "cell_type": "code",
   "execution_count": 143,
   "metadata": {},
   "outputs": [
    {
     "data": {
      "text/plain": [
       "10"
      ]
     },
     "execution_count": 143,
     "metadata": {},
     "output_type": "execute_result"
    }
   ],
   "source": [
    "len(counts)"
   ]
  },
  {
   "cell_type": "code",
   "execution_count": 144,
   "metadata": {},
   "outputs": [
    {
     "data": {
      "text/plain": [
       "105"
      ]
     },
     "execution_count": 144,
     "metadata": {},
     "output_type": "execute_result"
    }
   ],
   "source": [
    "reduce(lambda x, y: x + y, [item['count'] for item in counts])"
   ]
  },
  {
   "cell_type": "code",
   "execution_count": 145,
   "metadata": {},
   "outputs": [],
   "source": [
    "def random_color_code():\n",
    "    alphabet = list(range(10)) + list(map(lambda idx: chr(idx), range(97, 103)))\n",
    "    cont = [str(random.choice(alphabet)) for d in range(6)] \n",
    "    return '#'+ ''.join(cont)"
   ]
  },
  {
   "cell_type": "code",
   "execution_count": 146,
   "metadata": {},
   "outputs": [
    {
     "data": {
      "text/plain": [
       "'#9fd1bb'"
      ]
     },
     "execution_count": 146,
     "metadata": {},
     "output_type": "execute_result"
    }
   ],
   "source": [
    "random_color_code()"
   ]
  },
  {
   "cell_type": "code",
   "execution_count": 147,
   "metadata": {},
   "outputs": [],
   "source": [
    "import matplotlib as mpl"
   ]
  },
  {
   "cell_type": "code",
   "execution_count": 148,
   "metadata": {},
   "outputs": [],
   "source": [
    "mpl.rcParams['figure.dpi'] = 300."
   ]
  },
  {
   "cell_type": "code",
   "execution_count": 155,
   "metadata": {},
   "outputs": [
    {
     "data": {
      "image/png": "[encoded data removed]",
      "text/plain": [
       "<Figure size 1800x1200 with 1 Axes>"
      ]
     },
     "metadata": {
      "needs_background": "light"
     },
     "output_type": "display_data"
    }
   ],
   "source": [
    "random_color_code()\n",
    "volumes, labels, colors = [], [], []\n",
    "for element in misc_elements.values():\n",
    "    if element['name'] == 'duplicate': continue\n",
    "    volumes.append(element['count'])\n",
    "    if element['count'] <= 1: \n",
    "        labels.append(element['name'][:4] + '\\n' + element['name'][4:])\n",
    "    else:\n",
    "        labels.append(element['name'])\n",
    "    colors.append(random_color_code())\n",
    "    \n",
    "plt.rc('font', size=8)\n",
    "squarify.plot(sizes=volumes, label=labels,\n",
    "              color=colors, alpha=0.7)\n",
    "plt.axis('off')\n",
    "\n",
    "plt.show()"
   ]
  },
  {
   "cell_type": "code",
   "execution_count": 132,
   "metadata": {},
   "outputs": [],
   "source": [
    "desc = {\n",
    "\t'already': {\n",
    "\t\t'name': 'already',\n",
    "\t\t'description_ko': '같은 영상에서 얻은 또다른 데이터가 있음.', \n",
    "\t\t'description_en': 'Other data which extracts from same video exists.'},\n",
    "\t'bad': {\n",
    "\t\t'name': 'bad',\n",
    "\t\t'description_ko': '영상의 질이 전체적으로 나쁨.', \n",
    "\t\t'description_en': 'Overall images quality is poor.'},\n",
    "\t'blur': {\n",
    "\t\t'name': 'blur',\n",
    "\t\t'description_ko': '주변 영상의 초점이 맞지 않아 흐릿함.', \n",
    "\t\t'description_en': 'The periphery of the images is blurred.'}, \n",
    "\t'overexposure': {\n",
    "\t\t'name': 'overexp.',\n",
    "\t\t'description_ko': '영상에서 타버린 스팟이 존재함.', \n",
    "\t\t'description_en': 'There is a burnt spot in the images.'}, \n",
    "\t'dark': {\n",
    "\t\t'name': 'dark',\n",
    "\t\t'description_ko': '영상이 전체적으로 어두움.', \n",
    "\t\t'description_en': 'The pictures is generally dark.'}, \n",
    "\t'duplicate': {\n",
    "\t\t'name': 'duplicate',\n",
    "\t\t'description_ko': '중복이라고 볼 수 있는 영상이 존재함.', \n",
    "\t\t'description_en': 'There is an image that can be regarded as overlapping.'}, \n",
    "\t'good': {\n",
    "\t\t'name': 'good',\n",
    "\t\t'description_ko': '영상에 나쁜 점이 없음.', \n",
    "\t\t'description_en': 'Nothing bad about the images.'}, \n",
    "\t'hard': {\n",
    "\t\t'name': 'hard',\n",
    "\t\t'description_ko': '대상의 주변이 복잡하고, 닮은 것이 있어 맞추기 어려워 보임.', \n",
    "\t\t'description_en': 'The subject\\'s surroundings are complex and seem difficult to match due to similarities.'}, \n",
    "\t'segmented': {\n",
    "\t\t'name': 'segmented',\n",
    "\t\t'description_ko': '대상이 영상의 여러 부분에서 나타난다.', \n",
    "\t\t'description_en': 'The object appears in various parts of the images.'}, \n",
    "\t'sparse': {\n",
    "\t\t'name': 'sparse',\n",
    "\t\t'description_ko': '대상이 영상에서 아주 협소하게 나타난다.', \n",
    "\t\t'description_en': 'The object appears very narrowly in the images.'}, \n",
    "\t'unclear': {\n",
    "\t\t'name': 'unclear',\n",
    "\t\t'description_ko': '대상이 나타나지만, 불명확하게 나타난다.', \n",
    "\t\t'description_en': 'The object appears, but indefinitely.'}, \n",
    "\t'vein': {\n",
    "\t\t'name': 'vein',\n",
    "\t\t'description_ko': '주로 vein 에 대한 이미지들이다.', \n",
    "\t\t'description_en': 'It\\'s mainly image about vein.'}\n",
    "}"
   ]
  },
  {
   "cell_type": "code",
   "execution_count": 43,
   "metadata": {},
   "outputs": [],
   "source": [
    "namemap = {\n",
    "    'unclear': 'anatomical structure not conspicuous',\n",
    "    'bad': 'overall low image quality', \n",
    "    'hard': 'anatomical structure too complex',\n",
    "    'dark': 'underexposure',\n",
    "    'sparse': 'anatomical structure too sparse',\n",
    "    'good': 'overall high image quality',\n",
    "    'already': 'image same origin video',\n",
    "    'overexposure': 'overexp.'\n",
    "}"
   ]
  },
  {
   "cell_type": "code",
   "execution_count": 44,
   "metadata": {},
   "outputs": [],
   "source": [
    "rename(desc, namemap)"
   ]
  },
  {
   "cell_type": "code",
   "execution_count": 45,
   "metadata": {},
   "outputs": [],
   "source": [
    "for item in counts:\n",
    "    item['name'] = item['name'].replace('\\n', '')"
   ]
  },
  {
   "cell_type": "code",
   "execution_count": 46,
   "metadata": {},
   "outputs": [
    {
     "data": {
      "text/plain": [
       "[{'count': 23, 'name': 'blur'},\n",
       " {'count': 22, 'name': 'overall high image quality'},\n",
       " {'count': 15, 'name': 'image same origin video'},\n",
       " {'count': 12, 'name': 'underexposure'},\n",
       " {'count': 10, 'name': 'anatomical structure not conspicuous'},\n",
       " {'count': 8, 'name': 'anatomical structure too sparse'},\n",
       " {'count': 8, 'name': 'anatomical structure too complex'},\n",
       " {'count': 5, 'name': 'vein'},\n",
       " {'count': 2, 'name': 'overall low image quality'},\n",
       " {'count': 1, 'name': 'overexp.'},\n",
       " {'count': 1, 'name': 'segmented'},\n",
       " {'count': 1, 'name': 'duplicate'}]"
      ]
     },
     "execution_count": 46,
     "metadata": {},
     "output_type": "execute_result"
    }
   ],
   "source": [
    "counts"
   ]
  },
  {
   "cell_type": "code",
   "execution_count": 47,
   "metadata": {},
   "outputs": [],
   "source": [
    "appendices = []\n",
    "for item in desc.values():\n",
    "    count = 0\n",
    "    if item['name'] == 'duplicate': continue\n",
    "    for c_item in counts:\n",
    "        if item['name'] == c_item['name']:\n",
    "            count = c_item['count']\n",
    "            break\n",
    "    appendices.append({\n",
    "        'name': item['name'],\n",
    "        'description': item['description_en'],\n",
    "        'count': count,\n",
    "        'percentile': round(count/88 * 100)\n",
    "    })\n"
   ]
  },
  {
   "cell_type": "code",
   "execution_count": 48,
   "metadata": {},
   "outputs": [
    {
     "data": {
      "text/plain": [
       "[{'name': 'image same origin video',\n",
       "  'description': 'Other data which extracts from same video exists.',\n",
       "  'count': 15,\n",
       "  'percentile': 17},\n",
       " {'name': 'overall low image quality',\n",
       "  'description': 'Overall images quality is poor.',\n",
       "  'count': 2,\n",
       "  'percentile': 2},\n",
       " {'name': 'blur',\n",
       "  'description': 'The periphery of the images is blurred.',\n",
       "  'count': 23,\n",
       "  'percentile': 26},\n",
       " {'name': 'overexp.',\n",
       "  'description': 'There is a burnt spot in the images.',\n",
       "  'count': 1,\n",
       "  'percentile': 1},\n",
       " {'name': 'underexposure',\n",
       "  'description': 'The pictures is generally dark.',\n",
       "  'count': 12,\n",
       "  'percentile': 14},\n",
       " {'name': 'overall high image quality',\n",
       "  'description': 'Nothing bad about the images.',\n",
       "  'count': 22,\n",
       "  'percentile': 25},\n",
       " {'name': 'anatomical structure too complex',\n",
       "  'description': \"The subject's surroundings are complex and seem difficult to match due to similarities.\",\n",
       "  'count': 8,\n",
       "  'percentile': 9},\n",
       " {'name': 'segmented',\n",
       "  'description': 'The object appears in various parts of the images.',\n",
       "  'count': 1,\n",
       "  'percentile': 1},\n",
       " {'name': 'anatomical structure too sparse',\n",
       "  'description': 'The object appears very narrowly in the images.',\n",
       "  'count': 8,\n",
       "  'percentile': 9},\n",
       " {'name': 'anatomical structure not conspicuous',\n",
       "  'description': 'The object appears, but indefinitely.',\n",
       "  'count': 10,\n",
       "  'percentile': 11},\n",
       " {'name': 'vein',\n",
       "  'description': \"It's mainly image about vein.\",\n",
       "  'count': 5,\n",
       "  'percentile': 6}]"
      ]
     },
     "execution_count": 48,
     "metadata": {},
     "output_type": "execute_result"
    }
   ],
   "source": [
    "appendices"
   ]
  },
  {
   "cell_type": "code",
   "execution_count": 49,
   "metadata": {},
   "outputs": [
    {
     "data": {
      "text/plain": [
       "11"
      ]
     },
     "execution_count": 49,
     "metadata": {},
     "output_type": "execute_result"
    }
   ],
   "source": [
    "len(appendices)"
   ]
  },
  {
   "cell_type": "code",
   "execution_count": 50,
   "metadata": {},
   "outputs": [
    {
     "data": {
      "text/plain": [
       "107"
      ]
     },
     "execution_count": 50,
     "metadata": {},
     "output_type": "execute_result"
    }
   ],
   "source": [
    "reduce(lambda a, b: a+b, [item['count'] for item in appendices])"
   ]
  },
  {
   "cell_type": "code",
   "execution_count": 51,
   "metadata": {},
   "outputs": [],
   "source": [
    "table_data = sorted(appendices, key=lambda item: item['count'], reverse=True)"
   ]
  },
  {
   "cell_type": "code",
   "execution_count": 52,
   "metadata": {},
   "outputs": [
    {
     "data": {
      "text/plain": [
       "[{'name': 'blur',\n",
       "  'description': 'The periphery of the images is blurred.',\n",
       "  'count': 23,\n",
       "  'percentile': 26},\n",
       " {'name': 'overall high image quality',\n",
       "  'description': 'Nothing bad about the images.',\n",
       "  'count': 22,\n",
       "  'percentile': 25},\n",
       " {'name': 'image same origin video',\n",
       "  'description': 'Other data which extracts from same video exists.',\n",
       "  'count': 15,\n",
       "  'percentile': 17},\n",
       " {'name': 'underexposure',\n",
       "  'description': 'The pictures is generally dark.',\n",
       "  'count': 12,\n",
       "  'percentile': 14},\n",
       " {'name': 'anatomical structure not conspicuous',\n",
       "  'description': 'The object appears, but indefinitely.',\n",
       "  'count': 10,\n",
       "  'percentile': 11},\n",
       " {'name': 'anatomical structure too complex',\n",
       "  'description': \"The subject's surroundings are complex and seem difficult to match due to similarities.\",\n",
       "  'count': 8,\n",
       "  'percentile': 9},\n",
       " {'name': 'anatomical structure too sparse',\n",
       "  'description': 'The object appears very narrowly in the images.',\n",
       "  'count': 8,\n",
       "  'percentile': 9},\n",
       " {'name': 'vein',\n",
       "  'description': \"It's mainly image about vein.\",\n",
       "  'count': 5,\n",
       "  'percentile': 6},\n",
       " {'name': 'overall low image quality',\n",
       "  'description': 'Overall images quality is poor.',\n",
       "  'count': 2,\n",
       "  'percentile': 2},\n",
       " {'name': 'overexp.',\n",
       "  'description': 'There is a burnt spot in the images.',\n",
       "  'count': 1,\n",
       "  'percentile': 1},\n",
       " {'name': 'segmented',\n",
       "  'description': 'The object appears in various parts of the images.',\n",
       "  'count': 1,\n",
       "  'percentile': 1}]"
      ]
     },
     "execution_count": 52,
     "metadata": {},
     "output_type": "execute_result"
    }
   ],
   "source": [
    "table_data"
   ]
  },
  {
   "cell_type": "code",
   "execution_count": 53,
   "metadata": {},
   "outputs": [
    {
     "name": "stdout",
     "output_type": "stream",
     "text": [
      "Requirement already satisfied: python-docx in /opt/conda/lib/python3.7/site-packages (0.8.10)\r\n",
      "Requirement already satisfied: lxml>=2.3.2 in /opt/conda/lib/python3.7/site-packages (from python-docx) (4.5.2)\r\n"
     ]
    }
   ],
   "source": [
    "!pip install python-docx"
   ]
  },
  {
   "cell_type": "code",
   "execution_count": 54,
   "metadata": {},
   "outputs": [],
   "source": [
    "from docx import Document\n",
    "\n",
    "document = Document()\n"
   ]
  },
  {
   "cell_type": "code",
   "execution_count": 55,
   "metadata": {},
   "outputs": [],
   "source": [
    "# add table ------------------\n",
    "table = document.add_table(12, 3)\n",
    "\n",
    "# populate header row --------\n",
    "heading_cells = table.rows[0].cells\n",
    "heading_cells[0].text = 'type name'\n",
    "heading_cells[1].text = 'description'\n",
    "heading_cells[2].text = 'percentile'\n",
    "\n",
    "# add a data row for each item\n",
    "for item in table_data:\n",
    "    cells = table.add_row().cells\n",
    "    cells[0].text = item['name']\n",
    "    cells[1].text = item['description']\n",
    "    cells[2].text = str(item['percentile'])"
   ]
  },
  {
   "cell_type": "code",
   "execution_count": 56,
   "metadata": {},
   "outputs": [],
   "source": [
    "document.save('test.docx')"
   ]
  },
  {
   "cell_type": "code",
   "execution_count": 57,
   "metadata": {
    "scrolled": true
   },
   "outputs": [
    {
     "name": "stdout",
     "output_type": "stream",
     "text": [
      "Help on method save in module docx.document:\n",
      "\n",
      "save(path_or_stream) method of docx.document.Document instance\n",
      "    Save this document to *path_or_stream*, which can be either a path to\n",
      "    a filesystem location (a string) or a file-like object.\n",
      "\n"
     ]
    }
   ],
   "source": [
    "help(document.save)"
   ]
  },
  {
   "cell_type": "code",
   "execution_count": null,
   "metadata": {},
   "outputs": [],
   "source": []
  }
 ],
 "metadata": {
  "kernelspec": {
   "display_name": "Python 3",
   "language": "python",
   "name": "python3"
  },
  "language_info": {
   "codemirror_mode": {
    "name": "ipython",
    "version": 3
   },
   "file_extension": ".py",
   "mimetype": "text/x-python",
   "name": "python",
   "nbconvert_exporter": "python",
   "pygments_lexer": "ipython3",
   "version": "3.7.7"
  }
 },
 "nbformat": 4,
 "nbformat_minor": 4
}
